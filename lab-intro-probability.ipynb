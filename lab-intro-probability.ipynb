{
 "cells": [
  {
   "cell_type": "markdown",
   "metadata": {},
   "source": [
    "# Lab | Intro to Probability"
   ]
  },
  {
   "cell_type": "markdown",
   "metadata": {},
   "source": [
    "**Objective**\n",
    "\n",
    "Welcome to this Intro to Probability lab, where we explore decision-making scenarios through the lens of probability and strategic analysis. In the business world, making informed decisions is crucial, especially when faced with uncertainties. This lab focuses on scenarios where probabilistic outcomes play a significant role in shaping strategies and outcomes. Students will engage in exercises that require assessing and choosing optimal paths based on data-driven insights. The goal is to enhance your skills by applying probability concepts to solve real-world problems."
   ]
  },
  {
   "cell_type": "code",
   "execution_count": null,
   "metadata": {},
   "outputs": [],
   "source": [
    "\"\"\"\n",
    "Bienvenido a este laboratorio de Introducción a la Probabilidad, donde exploraremos escenarios de toma de decisiones a través de la lente de la probabilidad y el análisis estratégico. En el mundo de los negocios, la toma de decisiones informadas es crucial, especialmente cuando nos enfrentamos a incertidumbres. Este laboratorio se centra en escenarios en los que los resultados probabilísticos desempeñan un papel importante en la configuración de estrategias y resultados. Los estudiantes participarán en ejercicios que requieren la evaluación y elección de caminos óptimos basados en datos. \n",
    "El objetivo es mejorar sus habilidades mediante la aplicación de conceptos de probabilidad para resolver problemas del mundo real.\n",
    "\"\"\""
   ]
  },
  {
   "cell_type": "markdown",
   "metadata": {},
   "source": [
    "**Challenge 1**"
   ]
  },
  {
   "cell_type": "markdown",
   "metadata": {},
   "source": [
    "#### Ironhack Airlines \n",
    "\n",
    "Often Airlines sell more tickets than they have seats available, this is called overbooking. Consider the following:\n",
    "- A plane has 450 seats. \n",
    "- Based on historical data we conclude that each individual passenger has a 3% chance of missing it's flight. \n",
    "\n",
    "If the Ironhack Airlines routinely sells 460 tickets, what is the chance that they have a seats for all passenger?"
   ]
  },
  {
   "cell_type": "code",
   "execution_count": null,
   "metadata": {},
   "outputs": [],
   "source": [
    "\"\"\"\n",
    "Aerolíneas Ironhack \n",
    "\n",
    "A menudo, las aerolíneas venden más billetes de los que tienen disponibles, lo que se denomina overbooking. Considere lo siguiente:\n",
    "- Un avión tiene 450 plazas. \n",
    "- Basándonos en datos históricos, llegamos a la conclusión de que cada pasajero tiene un 3% de posibilidades de perder su vuelo. \n",
    "\n",
    "Si la aerolínea Ironhack vende habitualmente 460 billetes, ¿cuál es la probabilidad de que tenga asientos para todos los pasajeros?\n",
    "\"\"\""
   ]
  },
  {
   "cell_type": "code",
   "execution_count": 1,
   "metadata": {},
   "outputs": [
    {
     "name": "stdout",
     "output_type": "stream",
     "text": [
      "La probabilidad de que haya 450 o menos pasajeros es: 0.8505\n"
     ]
    }
   ],
   "source": [
    "import scipy.stats as stats\n",
    "import math\n",
    "\n",
    "# Parámetros dados\n",
    "n = 460  # Número de billetes vendidos\n",
    "p = 0.97  # Probabilidad de que un pasajero llegue\n",
    "X = 450  # Número máximo de pasajeros que podemos aceptar\n",
    "\n",
    "# Paso 1: Calcular la media (mu) y la desviación estándar (sigma) de la distribución binomial\n",
    "mu = n * p  # Media\n",
    "sigma = math.sqrt(n * p * (1 - p))  # Desviación estándar\n",
    "\n",
    "# Paso 2: Calcular el valor Z para X = 450\n",
    "Z = (X - mu) / sigma\n",
    "\n",
    "# Paso 3: Usar la distribución normal acumulada para obtener la probabilidad P(X <= 450)\n",
    "probabilidad = stats.norm.cdf(Z)\n",
    "\n",
    "# Imprimir el resultado\n",
    "print(f\"La probabilidad de que haya 450 o menos pasajeros es: {probabilidad:.4f}\")"
   ]
  },
  {
   "cell_type": "markdown",
   "metadata": {},
   "source": [
    "**Challenge 2**"
   ]
  },
  {
   "cell_type": "markdown",
   "metadata": {},
   "source": [
    "#### Ironhack Call Center "
   ]
  },
  {
   "cell_type": "markdown",
   "metadata": {},
   "source": [
    "Suppose a customer service representative at a call center is handling customer complaints. Consider the following:\n",
    "- The probability of successfully resolving a customer complaint on the first attempt is 0.3. \n",
    "\n",
    "\n",
    "What is the probability that the representative needs to make at least three attempts before successfully resolving a customer complaint?"
   ]
  },
  {
   "cell_type": "code",
   "execution_count": null,
   "metadata": {},
   "outputs": [],
   "source": [
    "\"\"\" \n",
    "Ironhack Call Center \n",
    "\n",
    "Supongamos que un representante del servicio de atención al cliente de un centro de llamadas se ocupa de las reclamaciones de los clientes. Considere lo siguiente:\n",
    "- La probabilidad de resolver con éxito una reclamación de un cliente en el primer intento es de 0,3. \n",
    "\n",
    "\n",
    "¿Cuál es la probabilidad de que el representante tenga que hacer al menos tres intentos antes de resolver con éxito una reclamación de un cliente?\n",
    "\"\"\""
   ]
  },
  {
   "cell_type": "code",
   "execution_count": null,
   "metadata": {},
   "outputs": [
    {
     "name": "stdout",
     "output_type": "stream",
     "text": [
      "La probabilidad de que el representante necesite al menos 3 intentos es: 0.49\n"
     ]
    }
   ],
   "source": [
    "# Opción de resolución 1\n",
    "\n",
    "# Datos\n",
    "probabilidad_exito = 0.3\n",
    "probabilidad_fracaso = 1 - probabilidad_exito\n",
    "\n",
    "# Probabilidad de que se necesiten al menos 3 intentos\n",
    "probabilidad_al_menos_3_intentos = probabilidad_fracaso * probabilidad_fracaso\n",
    "\n",
    "# Mostrar el resultado\n",
    "print(f\"La probabilidad de que el representante necesite al menos 3 intentos es: {probabilidad_al_menos_3_intentos:.2f}\")"
   ]
  },
  {
   "cell_type": "code",
   "execution_count": null,
   "metadata": {},
   "outputs": [
    {
     "name": "stdout",
     "output_type": "stream",
     "text": [
      "La probabilidad de que el representante necesite al menos 3 intentos es: 0.49\n"
     ]
    }
   ],
   "source": [
    "# Opción de resolución 2\n",
    "\n",
    "import scipy.stats as stats\n",
    "\n",
    "# Datos\n",
    "probabilidad_exito = 0.3\n",
    "\n",
    "# Probabilidad de que se necesiten al menos 3 intentos\n",
    "# La distribución geométrica en scipy usa la función \"sf\" para la probabilidad de éxito complementaria\n",
    "probabilidad_al_menos_3_intentos = stats.geom.sf(2, probabilidad_exito)  # sf(k) = P(X > k)\n",
    "\n",
    "# Mostrar el resultado\n",
    "print(f\"La probabilidad de que el representante necesite al menos 3 intentos es: {probabilidad_al_menos_3_intentos:.2f}\")"
   ]
  },
  {
   "cell_type": "markdown",
   "metadata": {},
   "source": [
    "**Challenge 3**"
   ]
  },
  {
   "cell_type": "markdown",
   "metadata": {},
   "source": [
    "#### Ironhack Website"
   ]
  },
  {
   "cell_type": "markdown",
   "metadata": {},
   "source": [
    "Consider a scenario related to Ironhack website traffic. Where:\n",
    "- our website takes on average 500 visits per hour.\n",
    "- the website's server is designed to handle up to 550 vists per hour.\n",
    "\n",
    "\n",
    "What is the probability of the website server being overwhelmed?"
   ]
  },
  {
   "cell_type": "code",
   "execution_count": null,
   "metadata": {},
   "outputs": [],
   "source": [
    "\"\"\" \n",
    "Consideremos un escenario relacionado con el tráfico del sitio web Ironhack. Donde\n",
    "- nuestro sitio web recibe una media de 500 visitas por hora.\n",
    "- el servidor del sitio web está diseñado para soportar hasta 550 visitas por hora.\n",
    "\n",
    "\n",
    "¿Cuál es la probabilidad de que el servidor del sitio web se vea desbordado?\n",
    "\"\"\""
   ]
  },
  {
   "cell_type": "code",
   "execution_count": 4,
   "metadata": {},
   "outputs": [
    {
     "name": "stdout",
     "output_type": "stream",
     "text": [
      "La probabilidad de que el servidor se vea desbordado es: 0.0129\n"
     ]
    }
   ],
   "source": [
    "# Parámetros del problema\n",
    "lambda_visitas = 500  # Media de visitas por hora\n",
    "umbral = 550  # Umbral de visitas para que el servidor se vea desbordado\n",
    "\n",
    "# Calcular la probabilidad acumulada de que haya 550 o menos visitas\n",
    "probabilidad_hasta_550 = stats.poisson.cdf(umbral, lambda_visitas)\n",
    "\n",
    "# Calcular la probabilidad de que el servidor se vea desbordado\n",
    "probabilidad_desbordamiento = 1 - probabilidad_hasta_550\n",
    "\n",
    "# Mostrar el resultado\n",
    "print(f\"La probabilidad de que el servidor se vea desbordado es: {probabilidad_desbordamiento:.4f}\")"
   ]
  },
  {
   "cell_type": "markdown",
   "metadata": {},
   "source": [
    "What is the probability of being overwhelmed at some point during a day? (consider 24hours)"
   ]
  },
  {
   "cell_type": "code",
   "execution_count": null,
   "metadata": {},
   "outputs": [],
   "source": [
    "\"\"\"¿Cuál es la probabilidad de verse desbordado en algún momento del día? (considere 24 horas)\"\"\""
   ]
  },
  {
   "cell_type": "code",
   "execution_count": 5,
   "metadata": {},
   "outputs": [
    {
     "name": "stdout",
     "output_type": "stream",
     "text": [
      "La probabilidad de que el servidor se vea desbordado al menos una vez en 24 horas es: 0.2677\n"
     ]
    }
   ],
   "source": [
    "# Parámetros del problema\n",
    "lambda_visitas = 500  # Media de visitas por hora\n",
    "umbral = 550  # Umbral de visitas para que el servidor se vea desbordado\n",
    "\n",
    "# Calcular la probabilidad acumulada de que haya 550 o menos visitas\n",
    "probabilidad_hasta_550 = stats.poisson.cdf(umbral, lambda_visitas)\n",
    "\n",
    "# Probabilidad de que el servidor se vea desbordado en una hora\n",
    "probabilidad_hora = 1 - probabilidad_hasta_550\n",
    "\n",
    "# Calcular la probabilidad de que el servidor se vea desbordado en al menos una hora durante 24 horas\n",
    "probabilidad_desbordamiento_24h = 1 - (1 - probabilidad_hora) ** 24\n",
    "\n",
    "# Mostrar el resultado\n",
    "print(f\"La probabilidad de que el servidor se vea desbordado al menos una vez en 24 horas es: {probabilidad_desbordamiento_24h:.4f}\")\n"
   ]
  },
  {
   "cell_type": "markdown",
   "metadata": {},
   "source": [
    "**Challenge 4**"
   ]
  },
  {
   "cell_type": "markdown",
   "metadata": {},
   "source": [
    "#### Ironhack Helpdesk"
   ]
  },
  {
   "cell_type": "markdown",
   "metadata": {},
   "source": [
    "Consider a scenario related to the time between arrivals of customers at a service desk.\n",
    "\n",
    "On average, a customers arrives every 10minutes.\n",
    "\n",
    "What is the probability that the next customer will arrive within the next 5 minutes?"
   ]
  },
  {
   "cell_type": "code",
   "execution_count": null,
   "metadata": {},
   "outputs": [],
   "source": [
    "\"\"\" \n",
    "Consideremos un escenario relacionado con el tiempo entre llegadas de clientes a un mostrador de servicio.\n",
    "\n",
    "Por término medio, llega un cliente cada 10 minutos.\n",
    "\n",
    "¿Cuál es la probabilidad de que el siguiente cliente llegue en los próximos 5 minutos?\n",
    "\"\"\""
   ]
  },
  {
   "cell_type": "code",
   "execution_count": 6,
   "metadata": {},
   "outputs": [
    {
     "name": "stdout",
     "output_type": "stream",
     "text": [
      "La probabilidad de que el siguiente cliente llegue en los próximos 5 minutos es: 0.3935\n"
     ]
    }
   ],
   "source": [
    "# Parámetros del problema\n",
    "lambda_cliente = 1 / 10  # Tasa de llegadas (1 cliente cada 10 minutos)\n",
    "t = 5  # Tiempo en minutos\n",
    "\n",
    "# Calcular la probabilidad de que el siguiente cliente llegue en 5 minutos\n",
    "probabilidad_llegada_5min = stats.expon.cdf(t, scale=1/lambda_cliente)\n",
    "\n",
    "# Mostrar el resultado\n",
    "print(f\"La probabilidad de que el siguiente cliente llegue en los próximos 5 minutos es: {probabilidad_llegada_5min:.4f}\")"
   ]
  },
  {
   "cell_type": "code",
   "execution_count": null,
   "metadata": {},
   "outputs": [],
   "source": [
    "\"\"\" \n",
    "Respuesta Esperada:\n",
    "Ejecutando el código, verás que la probabilidad de que el siguiente cliente llegue en los próximos 5 minutos es aproximadamente 0.3935 o 39.35%.\n",
    "\n",
    "Conclusión:\n",
    "La probabilidad de que el siguiente cliente llegue en los próximos 5 minutos es aproximadamente 39.35%, basado en una tasa de llegadas promedio de un cliente cada 10 minutos.\n",
    "\"\"\""
   ]
  },
  {
   "cell_type": "markdown",
   "metadata": {},
   "source": [
    "If there is no customer for 15minutes, employees can that a 5minutes break.\n",
    "\n",
    "What is the probability an employee taking a break?"
   ]
  },
  {
   "cell_type": "code",
   "execution_count": null,
   "metadata": {},
   "outputs": [],
   "source": [
    "\"\"\" \n",
    "Si no hay clientes durante 15 minutos, los empleados pueden tomarse un descanso de 5 minutos.\n",
    "\n",
    "¿Cuál es la probabilidad de que un empleado se tome un descanso?\n",
    "\"\"\""
   ]
  },
  {
   "cell_type": "code",
   "execution_count": 7,
   "metadata": {},
   "outputs": [
    {
     "name": "stdout",
     "output_type": "stream",
     "text": [
      "La probabilidad de que un empleado se tome un descanso de 5 minutos es: 0.2231\n"
     ]
    }
   ],
   "source": [
    "import numpy as np\n",
    "\n",
    "# Parámetros del problema\n",
    "lambda_cliente = 1 / 10  # Tasa de llegadas (1 cliente cada 10 minutos)\n",
    "t = 15  # Tiempo en minutos durante el cual no llega ningún cliente\n",
    "\n",
    "# Calcular la probabilidad de que no haya clientes durante 15 minutos\n",
    "probabilidad_descanso = stats.expon.sf(t, scale=1/lambda_cliente)  # Función de supervivencia\n",
    "\n",
    "# Mostrar el resultado\n",
    "print(f\"La probabilidad de que un empleado se tome un descanso de 5 minutos es: {probabilidad_descanso:.4f}\")"
   ]
  },
  {
   "cell_type": "markdown",
   "metadata": {},
   "source": [
    "**Challenge 5**"
   ]
  },
  {
   "cell_type": "markdown",
   "metadata": {},
   "source": [
    "The weights of a certain species of birds follow a normal distribution with a mean weight of 150 grams and a standard deviation of 10 grams. \n",
    "\n",
    "- If we randomly select a bird, what is the probability that its weight is between 140 and 160 grams?"
   ]
  },
  {
   "cell_type": "code",
   "execution_count": 8,
   "metadata": {},
   "outputs": [
    {
     "name": "stdout",
     "output_type": "stream",
     "text": [
      "La probabilidad de que el peso del pájaro esté entre 140 y 160 gramos es: 0.6827\n"
     ]
    }
   ],
   "source": [
    "# Parámetros del problema\n",
    "media = 150  # Media del peso en gramos\n",
    "desviacion = 10  # Desviación estándar en gramos\n",
    "\n",
    "# Calcular las probabilidades para 140 y 160 gramos\n",
    "probabilidad_140 = stats.norm.cdf(140, loc=media, scale=desviacion)\n",
    "probabilidad_160 = stats.norm.cdf(160, loc=media, scale=desviacion)\n",
    "\n",
    "# Probabilidad de que el peso esté entre 140 y 160 gramos\n",
    "probabilidad_intervalo = probabilidad_160 - probabilidad_140\n",
    "\n",
    "# Mostrar el resultado\n",
    "print(f\"La probabilidad de que el peso del pájaro esté entre 140 y 160 gramos es: {probabilidad_intervalo:.4f}\")"
   ]
  },
  {
   "cell_type": "markdown",
   "metadata": {},
   "source": [
    "**Challenge 6**"
   ]
  },
  {
   "cell_type": "markdown",
   "metadata": {},
   "source": [
    "If the lifetime (in hours) of a certain electronic component follows an exponential distribution with a mean lifetime of 50 hours, what is the probability that the component fails within the first 30 hours?"
   ]
  },
  {
   "cell_type": "code",
   "execution_count": null,
   "metadata": {},
   "outputs": [],
   "source": [
    "\"\"\"Si la vida útil (en horas) de un determinado componente electrónico sigue una distribución exponencial con una vida media de 50 horas, \n",
    "¿cuál es la probabilidad de que el componente falle en las primeras 30 horas?\"\"\""
   ]
  },
  {
   "cell_type": "code",
   "execution_count": 9,
   "metadata": {},
   "outputs": [
    {
     "name": "stdout",
     "output_type": "stream",
     "text": [
      "La probabilidad de que el componente falle en las primeras 30 horas es: 0.4512\n"
     ]
    }
   ],
   "source": [
    "# Parámetros del problema\n",
    "vida_media = 50  # Vida media del componente en horas\n",
    "t = 30  # Tiempo en horas para el que queremos calcular la probabilidad de fallo\n",
    "\n",
    "# Calcular la tasa de fallos (lambda)\n",
    "lambda_fallo = 1 / vida_media\n",
    "\n",
    "# Calcular la probabilidad de fallo en las primeras 30 horas\n",
    "probabilidad_fallo_30 = stats.expon.cdf(t, scale=1/lambda_fallo)\n",
    "\n",
    "# Mostrar el resultado\n",
    "print(f\"La probabilidad de que el componente falle en las primeras 30 horas es: {probabilidad_fallo_30:.4f}\")\n"
   ]
  }
 ],
 "metadata": {
  "kernelspec": {
   "display_name": "Python 3",
   "language": "python",
   "name": "python3"
  },
  "language_info": {
   "codemirror_mode": {
    "name": "ipython",
    "version": 3
   },
   "file_extension": ".py",
   "mimetype": "text/x-python",
   "name": "python",
   "nbconvert_exporter": "python",
   "pygments_lexer": "ipython3",
   "version": "3.9.6"
  }
 },
 "nbformat": 4,
 "nbformat_minor": 2
}
